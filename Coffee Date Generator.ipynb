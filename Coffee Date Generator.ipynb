{
 "cells": [
  {
   "cell_type": "code",
   "execution_count": 1,
   "id": "a6303329",
   "metadata": {},
   "outputs": [],
   "source": [
    "import pandas as pd"
   ]
  },
  {
   "cell_type": "code",
   "execution_count": 2,
   "id": "56f4f278",
   "metadata": {},
   "outputs": [],
   "source": [
    "#Create the student class\n",
    "class Student:    \n",
    "    def __init__(self, sid, prof, wants_three = False):\n",
    "        self.sid = sid\n",
    "        self.prof = prof\n",
    "        self.past_meetings = []\n",
    "        self.wants_three = wants_three\n",
    "        \n",
    "    def add_meetings(self, meet_sid):\n",
    "        self.past_meetings.append(meet_sid)\n",
    "        \n",
    "    def get_prof(self):\n",
    "        return self.prof\n",
    "    \n",
    "    def get_past_meetings(self):\n",
    "        return self.past_meetings\n",
    "    \n",
    "    def get_id(self):\n",
    "        return self.sid"
   ]
  },
  {
   "cell_type": "code",
   "execution_count": 3,
   "id": "b7036a8a",
   "metadata": {},
   "outputs": [],
   "source": [
    "#create the student body\n",
    "stud_csv = pd.read_csv('students.csv')\n",
    "student_body = []\n",
    "for i in range(len(stud_csv)):\n",
    "    student_body.append(Student(stud_csv.loc[i, \"ID\"], stud_csv.loc[i, \"Prof\"]))"
   ]
  },
  {
   "cell_type": "code",
   "execution_count": 4,
   "id": "f27565cb",
   "metadata": {},
   "outputs": [],
   "source": [
    "#assign all the past meetings\n",
    "meet_csv = pd.read_csv('student_meetings.csv')\n",
    "for i in range(len(meet_csv)):\n",
    "    partner1 = student_body[meet_csv.loc[i, 'Partner1']-1]\n",
    "    partner2 = student_body[meet_csv.loc[i, 'Partner2']-1]\n",
    "    partner1.add_meetings(partner2)\n",
    "    partner2.add_meetings(partner1)"
   ]
  },
  {
   "cell_type": "code",
   "execution_count": 8,
   "id": "4a6a7435",
   "metadata": {},
   "outputs": [
    {
     "name": "stdout",
     "output_type": "stream",
     "text": [
      "[(1, 2), (3, 5), (4, 6), (7, 8), (9, 10), (11, 12), (13, 14), (15, 19), (16, 20), (17, 21), (18, 23), (22, 24), (25, 26), (27, 28), (29, 30), (31, 32), (33, 34), (35, 37), (36, 38)]\n",
      "[]\n"
     ]
    }
   ],
   "source": [
    "remaining_students = student_body.copy()\n",
    "\n",
    "#####################################\n",
    "##  SHUFFLE THE REMAINNG STUDENTS  ##\n",
    "#####################################\n",
    "\n",
    "matches  = []\n",
    "failed_to_match = []\n",
    "while len(remaining_students) > 1:\n",
    "    end = True\n",
    "    cur_stud = remaining_students[0]\n",
    "    for stud in remaining_students[1:]:\n",
    "        if cur_stud.get_prof() != stud.get_prof() and cur_stud not in stud.get_past_meetings():\n",
    "            matches.append((cur_stud.get_id(), stud.get_id()))\n",
    "            remaining_students.remove(cur_stud)\n",
    "            remaining_students.remove(stud)\n",
    "            end = False\n",
    "            break\n",
    "    if end:\n",
    "        failed_to_match.append(cur_stud)\n",
    "        reamining_stud.remove(cur_stud)\n",
    "        \n",
    "print(matches)\n",
    "print(failed_to_match)\n",
    "\n",
    "#####################################\n",
    "##  DEAL WITH REMAINING STUDENTS  ##\n",
    "#####################################"
   ]
  },
  {
   "cell_type": "code",
   "execution_count": 6,
   "id": "1e2222d2",
   "metadata": {},
   "outputs": [
    {
     "data": {
      "text/plain": [
       "\"\\nstu_mtx = []\\nfor row in range(len(student_body)):\\n    data = []\\n    for col in range(len(student_body)):\\n        if student_body[row] in student_body[col].get_past_meetings():\\n            data.append('M')\\n        elif student_body[row].get_prof() == student_body[col].get_prof():\\n            data.append('P')\\n        else:\\n            data.append('O')\\n    stu_mtx.append(data)\\n    \\n    \\nfor row in stu_mtx:\\n    print(' '.join(row))\\n\""
      ]
     },
     "execution_count": 6,
     "metadata": {},
     "output_type": "execute_result"
    }
   ],
   "source": [
    "'''\n",
    "stu_mtx = []\n",
    "for row in range(len(student_body)):\n",
    "    data = []\n",
    "    for col in range(len(student_body)):\n",
    "        if student_body[row] in student_body[col].get_past_meetings():\n",
    "            data.append('M')\n",
    "        elif student_body[row].get_prof() == student_body[col].get_prof():\n",
    "            data.append('P')\n",
    "        else:\n",
    "            data.append('O')\n",
    "    stu_mtx.append(data)\n",
    "    \n",
    "    \n",
    "for row in stu_mtx:\n",
    "    print(' '.join(row))\n",
    "'''         "
   ]
  }
 ],
 "metadata": {
  "kernelspec": {
   "display_name": "Python 3",
   "language": "python",
   "name": "python3"
  },
  "language_info": {
   "codemirror_mode": {
    "name": "ipython",
    "version": 3
   },
   "file_extension": ".py",
   "mimetype": "text/x-python",
   "name": "python",
   "nbconvert_exporter": "python",
   "pygments_lexer": "ipython3",
   "version": "3.8.8"
  }
 },
 "nbformat": 4,
 "nbformat_minor": 5
}
